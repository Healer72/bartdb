{
 "worksheets": [
  {
   "cells": [
    {
     "cell_type": "code",
     "metadata": {},
     "outputs": [],
     "input": [
      "import pandas as pd\n",
      "import numpy as np\n",
      "import datetime\n",
      "import sqlite3"
     ],
     "language": "python",
     "prompt_number": 3
    },
    {
     "cell_type": "code",
     "metadata": {},
     "outputs": [],
     "input": [
      "def parse_time(timestamp):\n",
      "    try:\n",
      "        dt = pd.to_datetime(float(timestamp), unit='s')\n",
      "        return dt.tz_localize('UTC').tz_convert('US/Pacific')\n",
      "    except AttributeError, ValueError:\n",
      "        return pd.NaT\n",
      "\n",
      "plza = pd.read_csv('plza.csv', parse_dates=['time'], date_parser=parse_time)\n",
      "plza['etd'] = plza['etd'].replace('Leaving', 0).astype(np.float)\n",
      "plza['time_of_day'] = plza['time'].apply(lambda x: datetime.time(x.time().hour, x.time().minute))"
     ],
     "language": "python",
     "prompt_number": 4
    },
    {
     "cell_type": "code",
     "metadata": {},
     "outputs": [],
     "input": [
      "conn = sqlite3.connect('bart.db')"
     ],
     "language": "python",
     "prompt_number": 5
    },
    {
     "cell_type": "code",
     "metadata": {},
     "outputs": [],
     "input": [
      "c = conn.cursor()"
     ],
     "language": "python",
     "prompt_number": 6
    },
    {
     "cell_type": "code",
     "metadata": {},
     "outputs": [
      {
       "output_type": "pyout",
       "html": [
        "<div style=\"max-height:1000px;max-width:1500px;overflow:auto;\">\n",
        "<table border=\"1\" class=\"dataframe\">\n",
        "  <thead>\n",
        "    <tr style=\"text-align: right;\">\n",
        "      <th></th>\n",
        "      <th>time</th>\n",
        "      <th>dest</th>\n",
        "      <th>dir</th>\n",
        "      <th>len</th>\n",
        "      <th>etd</th>\n",
        "      <th>time_of_day</th>\n",
        "    </tr>\n",
        "  </thead>\n",
        "  <tbody>\n",
        "    <tr>\n",
        "      <th>0</th>\n",
        "      <td> 2014-11-27 09:20:37.850000-08:00</td>\n",
        "      <td>  Fremont</td>\n",
        "      <td> South</td>\n",
        "      <td> 6</td>\n",
        "      <td>  3</td>\n",
        "      <td> 09:20:00</td>\n",
        "    </tr>\n",
        "    <tr>\n",
        "      <th>1</th>\n",
        "      <td> 2014-11-27 09:20:37.850000-08:00</td>\n",
        "      <td> Richmond</td>\n",
        "      <td> North</td>\n",
        "      <td> 6</td>\n",
        "      <td> 10</td>\n",
        "      <td> 09:20:00</td>\n",
        "    </tr>\n",
        "    <tr>\n",
        "      <th>2</th>\n",
        "      <td> 2014-11-27 09:22:01.120000-08:00</td>\n",
        "      <td>  Fremont</td>\n",
        "      <td> South</td>\n",
        "      <td> 6</td>\n",
        "      <td>  2</td>\n",
        "      <td> 09:22:00</td>\n",
        "    </tr>\n",
        "    <tr>\n",
        "      <th>3</th>\n",
        "      <td> 2014-11-27 09:22:01.120000-08:00</td>\n",
        "      <td> Richmond</td>\n",
        "      <td> North</td>\n",
        "      <td> 6</td>\n",
        "      <td>  9</td>\n",
        "      <td> 09:22:00</td>\n",
        "    </tr>\n",
        "    <tr>\n",
        "      <th>4</th>\n",
        "      <td> 2014-11-27 09:23:01.460000-08:00</td>\n",
        "      <td>  Fremont</td>\n",
        "      <td> South</td>\n",
        "      <td> 6</td>\n",
        "      <td>  0</td>\n",
        "      <td> 09:23:00</td>\n",
        "    </tr>\n",
        "  </tbody>\n",
        "</table>\n",
        "</div>"
       ],
       "text": [
        "                               time      dest    dir  len  etd time_of_day\n",
        "0  2014-11-27 09:20:37.850000-08:00   Fremont  South    6    3    09:20:00\n",
        "1  2014-11-27 09:20:37.850000-08:00  Richmond  North    6   10    09:20:00\n",
        "2  2014-11-27 09:22:01.120000-08:00   Fremont  South    6    2    09:22:00\n",
        "3  2014-11-27 09:22:01.120000-08:00  Richmond  North    6    9    09:22:00\n",
        "4  2014-11-27 09:23:01.460000-08:00   Fremont  South    6    0    09:23:00"
       ],
       "metadata": {}
      }
     ],
     "input": [
      "plza.head()"
     ],
     "language": "python",
     "prompt_number": 7
    },
    {
     "cell_type": "code",
     "metadata": {},
     "outputs": [
      {
       "output_type": "pyout",
       "prompt_number": 18,
       "text": [
        "<sqlite3.Cursor at 0x132f2420>"
       ],
       "metadata": {}
      }
     ],
     "input": [
      "c.execute('CREATE TABLE etd (hour integer, minute integer, etd integer, station text, dest text)')"
     ],
     "language": "python",
     "prompt_number": 18
    },
    {
     "cell_type": "code",
     "metadata": {},
     "outputs": [],
     "input": [
      "rowdata = []\n",
      "for row in plza.values:\n",
      "    rowdata.append([row[-1].hour, row[-1].minute, row[-2], 'plza', row[1]])"
     ],
     "language": "python",
     "prompt_number": 29
    },
    {
     "cell_type": "code",
     "metadata": {},
     "outputs": [
      {
       "output_type": "pyout",
       "prompt_number": 30,
       "text": [
        "<sqlite3.Cursor at 0x132f2420>"
       ],
       "metadata": {}
      }
     ],
     "input": [
      "c.execute('delete from etd')"
     ],
     "language": "python",
     "prompt_number": 30
    },
    {
     "cell_type": "code",
     "metadata": {},
     "outputs": [
      {
       "output_type": "pyout",
       "prompt_number": 31,
       "text": [
        "<sqlite3.Cursor at 0x132f2420>"
       ],
       "metadata": {}
      }
     ],
     "input": [
      "c.executemany('INSERT INTO etd VALUES (?, ?, ?, ?, ?)', rowdata)"
     ],
     "language": "python",
     "prompt_number": 31
    },
    {
     "cell_type": "code",
     "metadata": {},
     "outputs": [
      {
       "output_type": "stream",
       "stream": "stdout",
       "text": [
        "(9, 20, 10, u'plza', u'Richmond')\n",
        "(9, 22, 9, u'plza', u'Richmond')\n",
        "(9, 23, 7, u'plza', u'Richmond')\n",
        "(9, 24, 6, u'plza', u'Richmond')\n",
        "(9, 25, 5, u'plza', u'Richmond')\n",
        "(9, 26, 4, u'plza', u'Richmond')\n",
        "(9, 27, 3, u'plza', u'Richmond')\n",
        "(9, 28, 2, u'plza', u'Richmond')\n",
        "(9, 29, 1, u'plza', u'Richmond')\n",
        "(9, 30, 0, u'plza', u'Richmond')\n"
       ]
      }
     ],
     "input": [
      "for row in c.execute('select * from etd where dest = ? limit 10', ('Richmond',)):\n",
      "    print row"
     ],
     "language": "python",
     "prompt_number": 32
    }
   ]
  }
 ],
 "cells": [],
 "metadata": {
  "name": "",
  "signature": "sha256:2c17ac3fec184d102cce69598ad7b9329feb2bcd27f89a5fa8cd372d68e9e221"
 },
 "nbformat": 3,
 "nbformat_minor": 0
}